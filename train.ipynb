{
 "cells": [
  {
   "cell_type": "code",
   "execution_count": 1,
   "id": "d2ece25b",
   "metadata": {},
   "outputs": [
    {
     "name": "stdout",
     "output_type": "stream",
     "text": [
      "pygame 2.6.1 (SDL 2.28.4, Python 3.12.7)\n",
      "Hello from the pygame community. https://www.pygame.org/contribute.html\n"
     ]
    }
   ],
   "source": [
    "import torch\n",
    "import torch.nn as nn\n",
    "import torch.nn.functional as F\n",
    "import random\n",
    "from game import Environment\n",
    "from dqn import DQN, ReplayMemory\n",
    "from agent import Agent"
   ]
  },
  {
   "cell_type": "code",
   "execution_count": 2,
   "id": "77cddf11",
   "metadata": {},
   "outputs": [],
   "source": [
    "BATCH_SIZE = 128\n",
    "GAMMA = 0.99\n",
    "TAU = 0.005\n",
    "LR = 1e-4\n",
    "EPS_DECAY = 0.995"
   ]
  },
  {
   "cell_type": "code",
   "execution_count": 3,
   "id": "47f6e8c6",
   "metadata": {},
   "outputs": [],
   "source": [
    "env = Environment()\n",
    "state = env.reset()\n",
    "n_observations = len(state)\n",
    "n_actions = 2\n",
    "\n",
    "agent = Agent(n_observations, n_actions, batch_size=BATCH_SIZE, epsilon_decay=EPS_DECAY, gamma=GAMMA, tau=TAU, lr=LR)"
   ]
  },
  {
   "cell_type": "code",
   "execution_count": 4,
   "id": "5e62c288",
   "metadata": {},
   "outputs": [
    {
     "name": "stdout",
     "output_type": "stream",
     "text": [
      "Episode 0, Steps: 39, Total Reward: 28, Epsilon: 0.99\n",
      "Episode 100, Steps: 40, Total Reward: 29, Epsilon: 0.60\n",
      "Episode 200, Steps: 63, Total Reward: 52, Epsilon: 0.37\n",
      "Episode 300, Steps: 84, Total Reward: 73, Epsilon: 0.22\n",
      "Episode 400, Steps: 84, Total Reward: 73, Epsilon: 0.13\n",
      "Episode 500, Steps: 61, Total Reward: 50, Epsilon: 0.08\n",
      "Episode 600, Steps: 59, Total Reward: 48, Epsilon: 0.05\n",
      "Episode 700, Steps: 74, Total Reward: 63, Epsilon: 0.03\n",
      "Episode 800, Steps: 84, Total Reward: 73, Epsilon: 0.02\n",
      "Episode 900, Steps: 84, Total Reward: 73, Epsilon: 0.01\n",
      "Model saved as model2.pth\n"
     ]
    }
   ],
   "source": [
    "num_episodes = 1000\n",
    "\n",
    "for episode in range(num_episodes):\n",
    "    state = env.reset()\n",
    "    done = False\n",
    "    total_reward = 0\n",
    "    steps = 0\n",
    "\n",
    "    while not done:\n",
    "        action = agent.nextAction(state)\n",
    "        next_state, reward, done = env.step(action)\n",
    "        \n",
    "        agent.storeTransition(state, action, reward, next_state, done)\n",
    "\n",
    "        state = next_state\n",
    "        total_reward += reward\n",
    "\n",
    "        agent.replay()\n",
    "        agent.updateTargetNetwork()\n",
    "\n",
    "        steps += 1\n",
    "        if steps > 1000:\n",
    "            break\n",
    "\n",
    "    agent.decayEpsilon()\n",
    "\n",
    "    if episode % 100 == 0:\n",
    "        print(f\"Episode {episode}, Steps: {steps}, Total Reward: {total_reward}, Epsilon: {agent.epsilon:.2f}\")\n",
    "\n",
    "torch.save(agent.target_net.state_dict(), \"model2.pth\")\n",
    "print(\"Model saved as model2.pth\")"
   ]
  },
  {
   "cell_type": "code",
   "execution_count": null,
   "id": "eb19f76a",
   "metadata": {},
   "outputs": [],
   "source": [
    "model = DQN(n_observations, n_actions)\n",
    "model.load_state_dict(torch.load(\"model1.pth\"))\n",
    "\n",
    "test_env = Environment(renderGame=True)\n",
    "state = test_env.reset()\n",
    "\n",
    "done = False\n",
    "\n",
    "while not done:\n",
    "    action = model.action(state)\n",
    "    next_state, reward, done = test_env.step(action)\n",
    "    state = next_state\n",
    "\n",
    "    if not done:\n",
    "        test_env.render()\n",
    "\n",
    "test_env.quit()"
   ]
  }
 ],
 "metadata": {
  "kernelspec": {
   "display_name": ".venv",
   "language": "python",
   "name": "python3"
  },
  "language_info": {
   "codemirror_mode": {
    "name": "ipython",
    "version": 3
   },
   "file_extension": ".py",
   "mimetype": "text/x-python",
   "name": "python",
   "nbconvert_exporter": "python",
   "pygments_lexer": "ipython3",
   "version": "3.12.7"
  }
 },
 "nbformat": 4,
 "nbformat_minor": 5
}
