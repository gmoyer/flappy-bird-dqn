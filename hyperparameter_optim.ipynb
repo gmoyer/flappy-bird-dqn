{
 "cells": [
  {
   "cell_type": "code",
   "execution_count": 1,
   "id": "5c22d099",
   "metadata": {},
   "outputs": [
    {
     "name": "stdout",
     "output_type": "stream",
     "text": [
      "pygame 2.6.1 (SDL 2.28.4, Python 3.12.7)\n",
      "Hello from the pygame community. https://www.pygame.org/contribute.html\n"
     ]
    }
   ],
   "source": [
    "import torch\n",
    "import torch.nn as nn\n",
    "import torch.nn.functional as F\n",
    "import random\n",
    "from game import Environment\n",
    "from dqn import DQN, ReplayMemory\n",
    "from agent import Agent\n",
    "import matplotlib.pyplot as plt"
   ]
  },
  {
   "cell_type": "code",
   "execution_count": null,
   "id": "3abb43ef",
   "metadata": {},
   "outputs": [],
   "source": [
    "BATCH_SIZE = 256\n",
    "GAMMA = 0.999\n",
    "TAU = 0.005\n",
    "LR = 0.0001\n",
    "EPS_DECAY = 0.995\n",
    "\n",
    "performance = []"
   ]
  },
  {
   "cell_type": "code",
   "execution_count": 3,
   "id": "82d7559e",
   "metadata": {},
   "outputs": [],
   "source": [
    "env = Environment()\n",
    "state = env.reset()\n",
    "n_observations = len(state)\n",
    "n_actions = 2"
   ]
  },
  {
   "cell_type": "code",
   "execution_count": 4,
   "id": "bae41ee3",
   "metadata": {},
   "outputs": [
    {
     "name": "stdout",
     "output_type": "stream",
     "text": [
      "Episode 0, Steps: 38, Total Reward: 27, Epsilon: 0.99\n",
      "Episode 100, Steps: 55, Total Reward: 44, Epsilon: 0.60\n",
      "Episode 200, Steps: 67, Total Reward: 56, Epsilon: 0.37\n",
      "Episode 300, Steps: 55, Total Reward: 44, Epsilon: 0.22\n",
      "Episode 400, Steps: 84, Total Reward: 73, Epsilon: 0.13\n",
      "Episode 500, Steps: 64, Total Reward: 53, Epsilon: 0.08\n",
      "Episode 600, Steps: 84, Total Reward: 73, Epsilon: 0.05\n",
      "Episode 700, Steps: 580, Total Reward: 569, Epsilon: 0.03\n",
      "Episode 800, Steps: 352, Total Reward: 341, Epsilon: 0.02\n",
      "Lr: 0.0001, Average Reward: 965.74\n",
      "Episode 0, Steps: 40, Total Reward: 29, Epsilon: 0.99\n",
      "Episode 100, Steps: 39, Total Reward: 28, Epsilon: 0.60\n",
      "Episode 200, Steps: 48, Total Reward: 37, Epsilon: 0.37\n",
      "Episode 300, Steps: 84, Total Reward: 73, Epsilon: 0.22\n",
      "Episode 400, Steps: 57, Total Reward: 46, Epsilon: 0.13\n",
      "Episode 500, Steps: 57, Total Reward: 46, Epsilon: 0.08\n",
      "Episode 600, Steps: 95, Total Reward: 84, Epsilon: 0.05\n",
      "Episode 700, Steps: 102, Total Reward: 91, Epsilon: 0.03\n",
      "Episode 800, Steps: 96, Total Reward: 85, Epsilon: 0.02\n",
      "Lr: 0.0005, Average Reward: 901.99\n",
      "Episode 0, Steps: 39, Total Reward: 28, Epsilon: 0.99\n",
      "Episode 100, Steps: 46, Total Reward: 35, Epsilon: 0.60\n",
      "Episode 200, Steps: 45, Total Reward: 34, Epsilon: 0.37\n",
      "Episode 300, Steps: 54, Total Reward: 43, Epsilon: 0.22\n",
      "Episode 400, Steps: 51, Total Reward: 40, Epsilon: 0.13\n",
      "Episode 500, Steps: 61, Total Reward: 50, Epsilon: 0.08\n",
      "Episode 600, Steps: 68, Total Reward: 57, Epsilon: 0.05\n",
      "Episode 700, Steps: 151, Total Reward: 140, Epsilon: 0.03\n",
      "Episode 800, Steps: 151, Total Reward: 140, Epsilon: 0.02\n",
      "Lr: 0.001, Average Reward: 834.05\n",
      "Episode 0, Steps: 40, Total Reward: 29, Epsilon: 0.99\n",
      "Episode 100, Steps: 43, Total Reward: 32, Epsilon: 0.60\n",
      "Episode 200, Steps: 60, Total Reward: 49, Epsilon: 0.37\n",
      "Episode 300, Steps: 84, Total Reward: 73, Epsilon: 0.22\n",
      "Episode 400, Steps: 92, Total Reward: 81, Epsilon: 0.13\n",
      "Episode 500, Steps: 44, Total Reward: 33, Epsilon: 0.08\n",
      "Episode 600, Steps: 84, Total Reward: 73, Epsilon: 0.05\n",
      "Episode 700, Steps: 93, Total Reward: 82, Epsilon: 0.03\n",
      "Episode 800, Steps: 126, Total Reward: 115, Epsilon: 0.02\n",
      "Lr: 0.005, Average Reward: 830.15\n",
      "Episode 0, Steps: 44, Total Reward: 33, Epsilon: 0.99\n",
      "Episode 100, Steps: 43, Total Reward: 32, Epsilon: 0.60\n",
      "Episode 200, Steps: 54, Total Reward: 43, Epsilon: 0.37\n",
      "Episode 300, Steps: 69, Total Reward: 58, Epsilon: 0.22\n",
      "Episode 400, Steps: 58, Total Reward: 47, Epsilon: 0.13\n",
      "Episode 500, Steps: 84, Total Reward: 73, Epsilon: 0.08\n",
      "Episode 600, Steps: 101, Total Reward: 90, Epsilon: 0.05\n",
      "Episode 700, Steps: 86, Total Reward: 75, Epsilon: 0.03\n",
      "Episode 800, Steps: 84, Total Reward: 73, Epsilon: 0.02\n",
      "Lr: 0.01, Average Reward: 57.65\n",
      "Episode 0, Steps: 45, Total Reward: 34, Epsilon: 0.99\n",
      "Episode 100, Steps: 46, Total Reward: 35, Epsilon: 0.60\n",
      "Episode 200, Steps: 37, Total Reward: 26, Epsilon: 0.37\n",
      "Episode 300, Steps: 48, Total Reward: 37, Epsilon: 0.22\n",
      "Episode 400, Steps: 84, Total Reward: 73, Epsilon: 0.13\n",
      "Episode 500, Steps: 63, Total Reward: 52, Epsilon: 0.08\n",
      "Episode 600, Steps: 48, Total Reward: 37, Epsilon: 0.05\n",
      "Episode 700, Steps: 77, Total Reward: 66, Epsilon: 0.03\n",
      "Episode 800, Steps: 61, Total Reward: 50, Epsilon: 0.02\n",
      "Lr: 0.05, Average Reward: 21.0\n",
      "Episode 0, Steps: 39, Total Reward: 28, Epsilon: 0.99\n",
      "Episode 100, Steps: 40, Total Reward: 29, Epsilon: 0.60\n",
      "Episode 200, Steps: 38, Total Reward: 27, Epsilon: 0.37\n",
      "Episode 300, Steps: 60, Total Reward: 49, Epsilon: 0.22\n",
      "Episode 400, Steps: 51, Total Reward: 40, Epsilon: 0.13\n",
      "Episode 500, Steps: 39, Total Reward: 28, Epsilon: 0.08\n",
      "Episode 600, Steps: 84, Total Reward: 73, Epsilon: 0.05\n",
      "Episode 700, Steps: 36, Total Reward: 25, Epsilon: 0.03\n",
      "Episode 800, Steps: 32, Total Reward: 21, Epsilon: 0.02\n",
      "Lr: 0.1, Average Reward: 21.0\n",
      "Episode 0, Steps: 38, Total Reward: 27, Epsilon: 0.99\n",
      "Episode 100, Steps: 37, Total Reward: 26, Epsilon: 0.60\n",
      "Episode 200, Steps: 37, Total Reward: 26, Epsilon: 0.37\n",
      "Episode 300, Steps: 36, Total Reward: 25, Epsilon: 0.22\n",
      "Episode 400, Steps: 70, Total Reward: 59, Epsilon: 0.13\n",
      "Episode 500, Steps: 40, Total Reward: 29, Epsilon: 0.08\n",
      "Episode 600, Steps: 32, Total Reward: 21, Epsilon: 0.05\n",
      "Episode 700, Steps: 48, Total Reward: 37, Epsilon: 0.03\n",
      "Episode 800, Steps: 67, Total Reward: 56, Epsilon: 0.02\n",
      "Lr: 0.5, Average Reward: 21.0\n"
     ]
    }
   ],
   "source": [
    "for lr in LR:\n",
    "    agent = Agent(n_observations, n_actions, batch_size=BATCH_SIZE, epsilon_decay=EPS_DECAY, gamma=GAMMA, tau=TAU, lr=lr)\n",
    "\n",
    "    num_episodes = 900\n",
    "\n",
    "    for episode in range(num_episodes):\n",
    "        state = env.reset()\n",
    "        done = False\n",
    "        total_reward = 0\n",
    "        steps = 0\n",
    "\n",
    "        while not done:\n",
    "            action = agent.nextAction(state)\n",
    "            next_state, reward, done = env.step(action)\n",
    "            \n",
    "            agent.storeTransition(state, action, reward, next_state, done)\n",
    "\n",
    "            state = next_state\n",
    "            total_reward += reward\n",
    "\n",
    "            agent.replay()\n",
    "            agent.updateTargetNetwork()\n",
    "\n",
    "            steps += 1\n",
    "            if steps > 1000:\n",
    "                break\n",
    "\n",
    "        agent.decayEpsilon()\n",
    "\n",
    "        if episode % 100 == 0:\n",
    "            print(f\"Episode {episode}, Steps: {steps}, Total Reward: {total_reward}, Epsilon: {agent.epsilon:.2f}\")\n",
    "\n",
    "    # Test the model\n",
    "    test_episodes = 100\n",
    "    total_rewards = []\n",
    "    for _ in range(test_episodes):\n",
    "        state = env.reset()\n",
    "        done = False\n",
    "        total_reward = 0\n",
    "        steps = 0\n",
    "\n",
    "        while not done and steps < 1500:\n",
    "            action = agent.target_net.action(state)\n",
    "            next_state, reward, done = env.step(action)\n",
    "            state = next_state\n",
    "            total_reward += reward\n",
    "            steps += 1\n",
    "\n",
    "        total_rewards.append(total_reward)\n",
    "    avg_reward = sum(total_rewards) / test_episodes\n",
    "    performance.append(avg_reward)\n",
    "    print(f\"Lr: {lr}, Average Reward: {avg_reward}\")"
   ]
  },
  {
   "cell_type": "code",
   "execution_count": 5,
   "id": "bb3845bc",
   "metadata": {},
   "outputs": [
    {
     "data": {
      "image/png": "[encoded data removed]",
      "text/plain": [
       "<Figure size 800x600 with 1 Axes>"
      ]
     },
     "metadata": {},
     "output_type": "display_data"
    }
   ],
   "source": [
    "plt.figure(figsize=(8, 6))\n",
    "plt.plot(LR, performance, marker='o')\n",
    "plt.title('Learning Rate vs Performance')\n",
    "plt.xlabel('Learning Rate')\n",
    "plt.ylabel('Performance (Average Reward)')\n",
    "plt.xscale('log')\n",
    "plt.grid(True)\n",
    "plt.show()"
   ]
  }
 ],
 "metadata": {
  "kernelspec": {
   "display_name": ".venv",
   "language": "python",
   "name": "python3"
  },
  "language_info": {
   "codemirror_mode": {
    "name": "ipython",
    "version": 3
   },
   "file_extension": ".py",
   "mimetype": "text/x-python",
   "name": "python",
   "nbconvert_exporter": "python",
   "pygments_lexer": "ipython3",
   "version": "3.12.7"
  }
 },
 "nbformat": 4,
 "nbformat_minor": 5
}
